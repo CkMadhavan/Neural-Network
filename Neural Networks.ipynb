{
 "cells": [
  {
   "cell_type": "markdown",
   "metadata": {},
   "source": [
    "![Saber Technologies](https://1.bp.blogspot.com/-gFxi6dswqO0/WfmOUgT1YXI/AAAAAAAAA5E/tvVOOQFoo1gbOnmArmBXu54X44Kri3rzwCLcBGAs/s320/sabertechnologies.png)"
   ]
  },
  {
   "cell_type": "markdown",
   "metadata": {},
   "source": [
    "<h1><center>NEURAL NETWORK</center></h1>"
   ]
  },
  {
   "cell_type": "markdown",
   "metadata": {},
   "source": [
    "## Import"
   ]
  },
  {
   "cell_type": "code",
   "execution_count": 29,
   "metadata": {},
   "outputs": [],
   "source": [
    "import numpy as np\n",
    "from numpy import genfromtxt\n",
    "import pandas as pd\n",
    "from sklearn import preprocessing\n",
    "from tkinter import *"
   ]
  },
  {
   "cell_type": "markdown",
   "metadata": {},
   "source": [
    "\n"
   ]
  },
  {
   "cell_type": "markdown",
   "metadata": {},
   "source": [
    "## Sigmoid Activation Function"
   ]
  },
  {
   "cell_type": "code",
   "execution_count": 19,
   "metadata": {},
   "outputs": [],
   "source": [
    "def sig(a):\n",
    "    return 1/(1+np.exp(-a))\n",
    "\n",
    "def derivative(b):\n",
    "    return (b) * (1-b)"
   ]
  },
  {
   "cell_type": "markdown",
   "metadata": {},
   "source": [
    "\n"
   ]
  },
  {
   "cell_type": "markdown",
   "metadata": {},
   "source": [
    "## Input Features And Labels"
   ]
  },
  {
   "cell_type": "code",
   "execution_count": 20,
   "metadata": {},
   "outputs": [
    {
     "name": "stdout",
     "output_type": "stream",
     "text": [
      "[[1 0 0 1]\n",
      " [0 0 1 0]\n",
      " [0 1 0 1]\n",
      " [1 1 0 0]\n",
      " [1 0 0 1]]\n",
      "[[1]\n",
      " [0]\n",
      " [0]\n",
      " [1]\n",
      " [1]]\n"
     ]
    }
   ],
   "source": [
    "x = np.array([[1,0,0,1],\n",
    "             [0,0,1,0],\n",
    "             [0,1,0,1],\n",
    "             [1,1,0,0],\n",
    "             [1,0,0,1]])\n",
    "print(x)\n",
    "y = np.array([[1,0,0,1,1]]).T\n",
    "print(y)"
   ]
  },
  {
   "cell_type": "markdown",
   "metadata": {},
   "source": [
    "\n"
   ]
  },
  {
   "cell_type": "markdown",
   "metadata": {},
   "source": [
    "## Assign Weights"
   ]
  },
  {
   "cell_type": "code",
   "execution_count": 21,
   "metadata": {},
   "outputs": [
    {
     "name": "stdout",
     "output_type": "stream",
     "text": [
      "[[-0.84098076  0.03016644  0.39902984 -0.89451951 -0.17340677]\n",
      " [-0.75844768 -0.89836835  0.45605468 -0.72807513 -0.14572293]\n",
      " [ 0.80687508  0.52749777  0.8287055   0.35832139  0.41092267]\n",
      " [-0.71122325  0.1778529   0.5895715   0.19165613 -0.19430375]]\n",
      "\n",
      "\n",
      "[[-0.83374237]\n",
      " [-0.60681523]\n",
      " [-0.65240148]\n",
      " [-0.90185916]\n",
      " [-0.00687272]]\n"
     ]
    }
   ],
   "source": [
    "weights = 2 * np.random.random((4,5)) -1\n",
    "weightsout = 2 * np.random.random((5,1)) -1\n",
    "print(weights)\n",
    "print(\"\\n\")\n",
    "print(weightsout)"
   ]
  },
  {
   "cell_type": "markdown",
   "metadata": {},
   "source": [
    "\n"
   ]
  },
  {
   "cell_type": "markdown",
   "metadata": {},
   "source": [
    "## Traning"
   ]
  },
  {
   "cell_type": "code",
   "execution_count": 22,
   "metadata": {
    "scrolled": false
   },
   "outputs": [
    {
     "name": "stdout",
     "output_type": "stream",
     "text": [
      "Initial Output\n",
      "[[0.22139969]\n",
      " [0.12485537]\n",
      " [0.23633144]\n",
      " [0.2831642 ]\n",
      " [0.22139969]]\n",
      "\n",
      "Errors\n",
      "0.527044645448467\n",
      "0.003840022668762981\n",
      "0.0026452627909467224\n",
      "0.002130603454414344\n",
      "0.001828522230233567\n",
      "0.0016245451350451515\n",
      "\n",
      "Final Output\n",
      "[[0.99881548]\n",
      " [0.0016239 ]\n",
      " [0.00161642]\n",
      " [0.99823343]\n",
      " [0.99881548]]\n"
     ]
    }
   ],
   "source": [
    "for i in range(60000) :\n",
    "    l0 = x\n",
    "    l1 = sig(np.dot(l0 , weights))\n",
    "    l2 = sig(np.dot(l1 , weightsout))\n",
    "    \n",
    "    if i is 0:\n",
    "        print(\"Initial Output\")\n",
    "        print(l2)\n",
    "        print(\"\\nErrors\")\n",
    "        \n",
    "    error = y-l2\n",
    "    \n",
    "    if i % 10000 is 0:\n",
    "        print(str(np.mean(np.abs((error)))))\n",
    "    \n",
    "    l2_delta = error * derivative(l2)\n",
    "    l1_error = np.dot(l2_delta , weightsout.T)\n",
    "    l1_delta = l1_error * derivative(l1)\n",
    "    \n",
    "    weightsout += np.dot(l1.T , l2_delta)\n",
    "    weights += np.dot(l0.T , l1_delta)\n",
    "\n",
    "print(\"\\nFinal Output\")\n",
    "print(l2)"
   ]
  },
  {
   "cell_type": "markdown",
   "metadata": {},
   "source": [
    "\n"
   ]
  },
  {
   "cell_type": "markdown",
   "metadata": {},
   "source": [
    "## Predict"
   ]
  },
  {
   "cell_type": "code",
   "execution_count": 25,
   "metadata": {
    "scrolled": true
   },
   "outputs": [
    {
     "name": "stdout",
     "output_type": "stream",
     "text": [
      "0\n",
      "1\n",
      "1\n",
      "1\n"
     ]
    },
    {
     "data": {
      "text/plain": [
       "array([0.00020493])"
      ]
     },
     "execution_count": 25,
     "metadata": {},
     "output_type": "execute_result"
    }
   ],
   "source": [
    "new = sig(np.dot(np.array([int(input()),int(input()),int(input()),int(input())]),weights))\n",
    "sig(np.dot(new , weightsout))"
   ]
  }
 ],
 "metadata": {
  "kernelspec": {
   "display_name": "Python 3",
   "language": "python",
   "name": "python3"
  },
  "language_info": {
   "codemirror_mode": {
    "name": "ipython",
    "version": 3
   },
   "file_extension": ".py",
   "mimetype": "text/x-python",
   "name": "python",
   "nbconvert_exporter": "python",
   "pygments_lexer": "ipython3",
   "version": "3.6.5"
  }
 },
 "nbformat": 4,
 "nbformat_minor": 2
}
